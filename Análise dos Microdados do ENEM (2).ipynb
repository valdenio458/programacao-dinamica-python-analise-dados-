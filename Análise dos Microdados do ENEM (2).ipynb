{
 "cells": [
  {
   "cell_type": "code",
   "execution_count": 5,
   "id": "02238918",
   "metadata": {},
   "outputs": [],
   "source": [
    "import pandas as pd\n",
    "import matplotlib as plt"
   ]
  },
  {
   "cell_type": "code",
   "execution_count": 20,
   "id": "167e19bf",
   "metadata": {},
   "outputs": [],
   "source": [
    "colunas = ['NU_INSCRICAO', 'NU_ANO', 'TP_FAIXA_ETARIA', 'TP_SEXO',\n",
    "       'TP_ESTADO_CIVIL', 'TP_COR_RACA', 'TP_NACIONALIDADE',\n",
    "       'TP_ST_CONCLUSAO', 'TP_ANO_CONCLUIU', 'TP_ESCOLA', 'TP_ENSINO',\n",
    "       'IN_TREINEIRO', 'CO_MUNICIPIO_ESC', 'NO_MUNICIPIO_ESC',\n",
    "       'CO_UF_ESC', 'SG_UF_ESC', 'TP_DEPENDENCIA_ADM_ESC',\n",
    "       'TP_LOCALIZACAO_ESC', 'TP_SIT_FUNC_ESC', 'CO_MUNICIPIO_PROVA',\n",
    "       'NO_MUNICIPIO_PROVA', 'CO_UF_PROVA', 'SG_UF_PROVA',\n",
    "       'TP_PRESENCA_CN', 'TP_PRESENCA_CH', 'TP_PRESENCA_LC',\n",
    "       'TP_PRESENCA_MT', 'CO_PROVA_CN', 'CO_PROVA_CH', 'CO_PROVA_LC',\n",
    "       'CO_PROVA_MT', 'NU_NOTA_CN', 'NU_NOTA_CH', 'NU_NOTA_LC',\n",
    "       'NU_NOTA_MT', 'TP_STATUS_REDACAO', 'NU_NOTA_COMP1',\n",
    "       'NU_NOTA_COMP2', 'NU_NOTA_COMP3', 'NU_NOTA_COMP4', 'NU_NOTA_COMP5',\n",
    "       'NU_NOTA_REDACAO']"
   ]
  },
  {
   "cell_type": "code",
   "execution_count": 45,
   "id": "68137d98",
   "metadata": {},
   "outputs": [],
   "source": [
    "df = pd.read_csv('MICRODADOS_ENEM_2018.csv', sep=\";\", encoding='ISO-8859-1', usecols=colunas, nrows=10000)"
   ]
  },
  {
   "cell_type": "code",
   "execution_count": 46,
   "id": "ecd4f3e9",
   "metadata": {},
   "outputs": [
    {
     "data": {
      "text/html": [
       "<div>\n",
       "<style scoped>\n",
       "    .dataframe tbody tr th:only-of-type {\n",
       "        vertical-align: middle;\n",
       "    }\n",
       "\n",
       "    .dataframe tbody tr th {\n",
       "        vertical-align: top;\n",
       "    }\n",
       "\n",
       "    .dataframe thead th {\n",
       "        text-align: right;\n",
       "    }\n",
       "</style>\n",
       "<table border=\"1\" class=\"dataframe\">\n",
       "  <thead>\n",
       "    <tr style=\"text-align: right;\">\n",
       "      <th></th>\n",
       "      <th>NU_INSCRICAO</th>\n",
       "      <th>NU_ANO</th>\n",
       "      <th>TP_FAIXA_ETARIA</th>\n",
       "      <th>TP_SEXO</th>\n",
       "      <th>TP_ESTADO_CIVIL</th>\n",
       "      <th>TP_COR_RACA</th>\n",
       "      <th>TP_NACIONALIDADE</th>\n",
       "      <th>TP_ST_CONCLUSAO</th>\n",
       "      <th>TP_ANO_CONCLUIU</th>\n",
       "      <th>TP_ESCOLA</th>\n",
       "      <th>...</th>\n",
       "      <th>NU_NOTA_CH</th>\n",
       "      <th>NU_NOTA_LC</th>\n",
       "      <th>NU_NOTA_MT</th>\n",
       "      <th>TP_STATUS_REDACAO</th>\n",
       "      <th>NU_NOTA_COMP1</th>\n",
       "      <th>NU_NOTA_COMP2</th>\n",
       "      <th>NU_NOTA_COMP3</th>\n",
       "      <th>NU_NOTA_COMP4</th>\n",
       "      <th>NU_NOTA_COMP5</th>\n",
       "      <th>NU_NOTA_REDACAO</th>\n",
       "    </tr>\n",
       "  </thead>\n",
       "  <tbody>\n",
       "    <tr>\n",
       "      <th>0</th>\n",
       "      <td>180007186625</td>\n",
       "      <td>2018</td>\n",
       "      <td>2</td>\n",
       "      <td>F</td>\n",
       "      <td>0.0</td>\n",
       "      <td>4</td>\n",
       "      <td>1</td>\n",
       "      <td>2</td>\n",
       "      <td>0</td>\n",
       "      <td>4</td>\n",
       "      <td>...</td>\n",
       "      <td>611.4</td>\n",
       "      <td>517.9</td>\n",
       "      <td>496.3</td>\n",
       "      <td>1.0</td>\n",
       "      <td>120.0</td>\n",
       "      <td>40.0</td>\n",
       "      <td>40.0</td>\n",
       "      <td>120.0</td>\n",
       "      <td>40.0</td>\n",
       "      <td>360.0</td>\n",
       "    </tr>\n",
       "    <tr>\n",
       "      <th>1</th>\n",
       "      <td>180007186627</td>\n",
       "      <td>2018</td>\n",
       "      <td>3</td>\n",
       "      <td>F</td>\n",
       "      <td>0.0</td>\n",
       "      <td>4</td>\n",
       "      <td>1</td>\n",
       "      <td>1</td>\n",
       "      <td>1</td>\n",
       "      <td>1</td>\n",
       "      <td>...</td>\n",
       "      <td>477.8</td>\n",
       "      <td>495.3</td>\n",
       "      <td>440.6</td>\n",
       "      <td>1.0</td>\n",
       "      <td>140.0</td>\n",
       "      <td>40.0</td>\n",
       "      <td>40.0</td>\n",
       "      <td>160.0</td>\n",
       "      <td>40.0</td>\n",
       "      <td>420.0</td>\n",
       "    </tr>\n",
       "    <tr>\n",
       "      <th>2</th>\n",
       "      <td>180007186628</td>\n",
       "      <td>2018</td>\n",
       "      <td>3</td>\n",
       "      <td>M</td>\n",
       "      <td>0.0</td>\n",
       "      <td>0</td>\n",
       "      <td>1</td>\n",
       "      <td>2</td>\n",
       "      <td>0</td>\n",
       "      <td>2</td>\n",
       "      <td>...</td>\n",
       "      <td>473.8</td>\n",
       "      <td>534.4</td>\n",
       "      <td>410.4</td>\n",
       "      <td>1.0</td>\n",
       "      <td>120.0</td>\n",
       "      <td>120.0</td>\n",
       "      <td>100.0</td>\n",
       "      <td>120.0</td>\n",
       "      <td>140.0</td>\n",
       "      <td>600.0</td>\n",
       "    </tr>\n",
       "    <tr>\n",
       "      <th>3</th>\n",
       "      <td>180007186629</td>\n",
       "      <td>2018</td>\n",
       "      <td>2</td>\n",
       "      <td>F</td>\n",
       "      <td>0.0</td>\n",
       "      <td>3</td>\n",
       "      <td>1</td>\n",
       "      <td>2</td>\n",
       "      <td>0</td>\n",
       "      <td>4</td>\n",
       "      <td>...</td>\n",
       "      <td>663.3</td>\n",
       "      <td>614.5</td>\n",
       "      <td>711.5</td>\n",
       "      <td>1.0</td>\n",
       "      <td>160.0</td>\n",
       "      <td>160.0</td>\n",
       "      <td>180.0</td>\n",
       "      <td>180.0</td>\n",
       "      <td>120.0</td>\n",
       "      <td>800.0</td>\n",
       "    </tr>\n",
       "    <tr>\n",
       "      <th>4</th>\n",
       "      <td>180007186631</td>\n",
       "      <td>2018</td>\n",
       "      <td>11</td>\n",
       "      <td>F</td>\n",
       "      <td>0.0</td>\n",
       "      <td>5</td>\n",
       "      <td>1</td>\n",
       "      <td>1</td>\n",
       "      <td>6</td>\n",
       "      <td>1</td>\n",
       "      <td>...</td>\n",
       "      <td>621.5</td>\n",
       "      <td>519.4</td>\n",
       "      <td>543.1</td>\n",
       "      <td>1.0</td>\n",
       "      <td>120.0</td>\n",
       "      <td>120.0</td>\n",
       "      <td>120.0</td>\n",
       "      <td>100.0</td>\n",
       "      <td>40.0</td>\n",
       "      <td>500.0</td>\n",
       "    </tr>\n",
       "  </tbody>\n",
       "</table>\n",
       "<p>5 rows × 42 columns</p>\n",
       "</div>"
      ],
      "text/plain": [
       "   NU_INSCRICAO  NU_ANO  TP_FAIXA_ETARIA TP_SEXO  TP_ESTADO_CIVIL  \\\n",
       "0  180007186625    2018                2       F              0.0   \n",
       "1  180007186627    2018                3       F              0.0   \n",
       "2  180007186628    2018                3       M              0.0   \n",
       "3  180007186629    2018                2       F              0.0   \n",
       "4  180007186631    2018               11       F              0.0   \n",
       "\n",
       "   TP_COR_RACA  TP_NACIONALIDADE  TP_ST_CONCLUSAO  TP_ANO_CONCLUIU  TP_ESCOLA  \\\n",
       "0            4                 1                2                0          4   \n",
       "1            4                 1                1                1          1   \n",
       "2            0                 1                2                0          2   \n",
       "3            3                 1                2                0          4   \n",
       "4            5                 1                1                6          1   \n",
       "\n",
       "   ...  NU_NOTA_CH  NU_NOTA_LC  NU_NOTA_MT TP_STATUS_REDACAO  NU_NOTA_COMP1  \\\n",
       "0  ...       611.4       517.9       496.3               1.0          120.0   \n",
       "1  ...       477.8       495.3       440.6               1.0          140.0   \n",
       "2  ...       473.8       534.4       410.4               1.0          120.0   \n",
       "3  ...       663.3       614.5       711.5               1.0          160.0   \n",
       "4  ...       621.5       519.4       543.1               1.0          120.0   \n",
       "\n",
       "  NU_NOTA_COMP2  NU_NOTA_COMP3  NU_NOTA_COMP4  NU_NOTA_COMP5  NU_NOTA_REDACAO  \n",
       "0          40.0           40.0          120.0           40.0            360.0  \n",
       "1          40.0           40.0          160.0           40.0            420.0  \n",
       "2         120.0          100.0          120.0          140.0            600.0  \n",
       "3         160.0          180.0          180.0          120.0            800.0  \n",
       "4         120.0          120.0          100.0           40.0            500.0  \n",
       "\n",
       "[5 rows x 42 columns]"
      ]
     },
     "execution_count": 46,
     "metadata": {},
     "output_type": "execute_result"
    }
   ],
   "source": [
    "df.head()"
   ]
  },
  {
   "cell_type": "code",
   "execution_count": 19,
   "id": "23f69787",
   "metadata": {},
   "outputs": [
    {
     "data": {
      "text/plain": [
       "array(['NU_INSCRICAO', 'NU_ANO', 'TP_FAIXA_ETARIA', 'TP_SEXO',\n",
       "       'TP_ESTADO_CIVIL', 'TP_COR_RACA', 'TP_NACIONALIDADE',\n",
       "       'TP_ST_CONCLUSAO', 'TP_ANO_CONCLUIU', 'TP_ESCOLA', 'TP_ENSINO',\n",
       "       'IN_TREINEIRO', 'CO_MUNICIPIO_ESC', 'NO_MUNICIPIO_ESC',\n",
       "       'CO_UF_ESC', 'SG_UF_ESC', 'TP_DEPENDENCIA_ADM_ESC',\n",
       "       'TP_LOCALIZACAO_ESC', 'TP_SIT_FUNC_ESC', 'CO_MUNICIPIO_PROVA',\n",
       "       'NO_MUNICIPIO_PROVA', 'CO_UF_PROVA', 'SG_UF_PROVA',\n",
       "       'TP_PRESENCA_CN', 'TP_PRESENCA_CH', 'TP_PRESENCA_LC',\n",
       "       'TP_PRESENCA_MT', 'CO_PROVA_CN', 'CO_PROVA_CH', 'CO_PROVA_LC',\n",
       "       'CO_PROVA_MT', 'NU_NOTA_CN', 'NU_NOTA_CH', 'NU_NOTA_LC',\n",
       "       'NU_NOTA_MT', 'TP_STATUS_REDACAO', 'NU_NOTA_COMP1',\n",
       "       'NU_NOTA_COMP2', 'NU_NOTA_COMP3', 'NU_NOTA_COMP4', 'NU_NOTA_COMP5',\n",
       "       'NU_NOTA_REDACAO'], dtype=object)"
      ]
     },
     "execution_count": 19,
     "metadata": {},
     "output_type": "execute_result"
    }
   ],
   "source": [
    "df.columns.values"
   ]
  },
  {
   "cell_type": "code",
   "execution_count": 30,
   "id": "859bb933",
   "metadata": {},
   "outputs": [
    {
     "data": {
      "text/plain": [
       "0                  Ananindeua\n",
       "1                 Igarapé-Açu\n",
       "2          Rio Pardo de Minas\n",
       "3                  Ananindeua\n",
       "4                   Pesqueira\n",
       "                ...          \n",
       "995             Alagoa Grande\n",
       "996    Santo Antônio de Pádua\n",
       "997                Santa Rita\n",
       "998                 Barbacena\n",
       "999       Ouro Preto do Oeste\n",
       "Name: NO_MUNICIPIO_PROVA, Length: 1000, dtype: object"
      ]
     },
     "execution_count": 30,
     "metadata": {},
     "output_type": "execute_result"
    }
   ],
   "source": [
    "df['NO_MUNICIPIO_PROVA']"
   ]
  },
  {
   "cell_type": "code",
   "execution_count": 47,
   "id": "4cecabc8",
   "metadata": {},
   "outputs": [
    {
     "data": {
      "text/plain": [
       "São Paulo         454\n",
       "Rio de Janeiro    322\n",
       "Fortaleza         254\n",
       "Salvador          220\n",
       "Brasília          218\n",
       "                 ... \n",
       "Sooretama           1\n",
       "Jaguaruana          1\n",
       "Iporá               1\n",
       "Comodoro            1\n",
       "Curralinho          1\n",
       "Name: NO_MUNICIPIO_PROVA, Length: 1358, dtype: int64"
      ]
     },
     "execution_count": 47,
     "metadata": {},
     "output_type": "execute_result"
    }
   ],
   "source": [
    "df['NO_MUNICIPIO_PROVA'].value_counts()"
   ]
  },
  {
   "cell_type": "code",
   "execution_count": 48,
   "id": "6389fb78",
   "metadata": {},
   "outputs": [
    {
     "data": {
      "text/plain": [
       "0        2\n",
       "1        3\n",
       "2        3\n",
       "3        2\n",
       "4       11\n",
       "        ..\n",
       "9995     4\n",
       "9996     4\n",
       "9997     5\n",
       "9998     6\n",
       "9999     4\n",
       "Name: TP_FAIXA_ETARIA, Length: 10000, dtype: int64"
      ]
     },
     "execution_count": 48,
     "metadata": {},
     "output_type": "execute_result"
    }
   ],
   "source": [
    "df['TP_FAIXA_ETARIA']"
   ]
  },
  {
   "cell_type": "code",
   "execution_count": 37,
   "id": "b9093b2a",
   "metadata": {},
   "outputs": [
    {
     "data": {
      "text/plain": [
       "<Axes: >"
      ]
     },
     "execution_count": 37,
     "metadata": {},
     "output_type": "execute_result"
    },
    {
     "data": {
      "image/png": "[encoded data removed]",
      "text/plain": [
       "<Figure size 640x480 with 1 Axes>"
      ]
     },
     "metadata": {},
     "output_type": "display_data"
    }
   ],
   "source": [
    "df['TP_FAIXA_ETARIA'].hist()"
   ]
  },
  {
   "cell_type": "code",
   "execution_count": 49,
   "id": "487db296",
   "metadata": {},
   "outputs": [
    {
     "data": {
      "text/plain": [
       "SP    381\n",
       "MG    189\n",
       "RJ    188\n",
       "BA    166\n",
       "CE    145\n",
       "PA    118\n",
       "PE     98\n",
       "GO     78\n",
       "SC     77\n",
       "RS     71\n",
       "MA     70\n",
       "PR     67\n",
       "RN     54\n",
       "PI     49\n",
       "ES     46\n",
       "MT     46\n",
       "PB     41\n",
       "AL     39\n",
       "AM     38\n",
       "DF     32\n",
       "MS     27\n",
       "RO     26\n",
       "SE     22\n",
       "AP     14\n",
       "TO      9\n",
       "AC      7\n",
       "RR      4\n",
       "Name: SG_UF_ESC, dtype: int64"
      ]
     },
     "execution_count": 49,
     "metadata": {},
     "output_type": "execute_result"
    }
   ],
   "source": [
    "df['SG_UF_ESC'].value_counts()"
   ]
  },
  {
   "cell_type": "code",
   "execution_count": 50,
   "id": "709c0fc9",
   "metadata": {},
   "outputs": [
    {
     "data": {
      "text/plain": [
       "F    6381\n",
       "M    3619\n",
       "Name: TP_SEXO, dtype: int64"
      ]
     },
     "execution_count": 50,
     "metadata": {},
     "output_type": "execute_result"
    }
   ],
   "source": [
    "df['TP_SEXO'].value_counts()"
   ]
  },
  {
   "cell_type": "code",
   "execution_count": 53,
   "id": "0b9e1ce7",
   "metadata": {},
   "outputs": [],
   "source": [
    "estado_civil = df['TP_ESTADO_CIVIL'].value_counts()"
   ]
  },
  {
   "cell_type": "code",
   "execution_count": 54,
   "id": "a1d18311",
   "metadata": {},
   "outputs": [
    {
     "data": {
      "text/plain": [
       "0.0    8552\n",
       "1.0     898\n",
       "2.0     156\n",
       "3.0      11\n",
       "Name: TP_ESTADO_CIVIL, dtype: int64"
      ]
     },
     "execution_count": 54,
     "metadata": {},
     "output_type": "execute_result"
    }
   ],
   "source": [
    "estado_civil"
   ]
  },
  {
   "cell_type": "code",
   "execution_count": 64,
   "id": "ab096ff5",
   "metadata": {},
   "outputs": [],
   "source": [
    "# Porcentagem Estado Civil - List compreenhension\n",
    "percent_estado = [100 * x/estado_civil.sum() for x in estado_civil]"
   ]
  },
  {
   "cell_type": "code",
   "execution_count": 65,
   "id": "d5a3c0d9",
   "metadata": {},
   "outputs": [
    {
     "data": {
      "text/plain": [
       "[88.92586045544348, 9.337631277945306, 1.6221274825829262, 0.11438078402828325]"
      ]
     },
     "execution_count": 65,
     "metadata": {},
     "output_type": "execute_result"
    }
   ],
   "source": [
    "percent_estado"
   ]
  },
  {
   "cell_type": "code",
   "execution_count": 52,
   "id": "ac9184b8",
   "metadata": {},
   "outputs": [
    {
     "data": {
      "text/plain": [
       "3    4867\n",
       "1    3244\n",
       "2    1434\n",
       "4     210\n",
       "0     194\n",
       "5      51\n",
       "Name: TP_COR_RACA, dtype: int64"
      ]
     },
     "execution_count": 52,
     "metadata": {},
     "output_type": "execute_result"
    }
   ],
   "source": [
    "df['TP_COR_RACA'].value_counts()"
   ]
  },
  {
   "cell_type": "code",
   "execution_count": 24,
   "id": "59f4bf51",
   "metadata": {},
   "outputs": [
    {
     "data": {
      "text/plain": [
       "NU_INSCRICAO              False\n",
       "NU_ANO                    False\n",
       "TP_FAIXA_ETARIA           False\n",
       "TP_SEXO                   False\n",
       "TP_ESTADO_CIVIL            True\n",
       "TP_COR_RACA               False\n",
       "TP_NACIONALIDADE          False\n",
       "TP_ST_CONCLUSAO           False\n",
       "TP_ANO_CONCLUIU           False\n",
       "TP_ESCOLA                 False\n",
       "TP_ENSINO                  True\n",
       "IN_TREINEIRO              False\n",
       "CO_MUNICIPIO_ESC           True\n",
       "NO_MUNICIPIO_ESC           True\n",
       "CO_UF_ESC                  True\n",
       "SG_UF_ESC                  True\n",
       "TP_DEPENDENCIA_ADM_ESC     True\n",
       "TP_LOCALIZACAO_ESC         True\n",
       "TP_SIT_FUNC_ESC            True\n",
       "CO_MUNICIPIO_PROVA        False\n",
       "NO_MUNICIPIO_PROVA        False\n",
       "CO_UF_PROVA               False\n",
       "SG_UF_PROVA               False\n",
       "TP_PRESENCA_CN            False\n",
       "TP_PRESENCA_CH            False\n",
       "TP_PRESENCA_LC            False\n",
       "TP_PRESENCA_MT            False\n",
       "CO_PROVA_CN                True\n",
       "CO_PROVA_CH                True\n",
       "CO_PROVA_LC                True\n",
       "CO_PROVA_MT                True\n",
       "NU_NOTA_CN                 True\n",
       "NU_NOTA_CH                 True\n",
       "NU_NOTA_LC                 True\n",
       "NU_NOTA_MT                 True\n",
       "TP_STATUS_REDACAO          True\n",
       "NU_NOTA_COMP1              True\n",
       "NU_NOTA_COMP2              True\n",
       "NU_NOTA_COMP3              True\n",
       "NU_NOTA_COMP4              True\n",
       "NU_NOTA_COMP5              True\n",
       "NU_NOTA_REDACAO            True\n",
       "dtype: bool"
      ]
     },
     "execution_count": 24,
     "metadata": {},
     "output_type": "execute_result"
    }
   ],
   "source": [
    "df.isna().any()"
   ]
  },
  {
   "cell_type": "code",
   "execution_count": null,
   "id": "8fc71fc9",
   "metadata": {},
   "outputs": [],
   "source": []
  }
 ],
 "metadata": {
  "kernelspec": {
   "display_name": "Python 3 (ipykernel)",
   "language": "python",
   "name": "python3"
  },
  "language_info": {
   "codemirror_mode": {
    "name": "ipython",
    "version": 3
   },
   "file_extension": ".py",
   "mimetype": "text/x-python",
   "name": "python",
   "nbconvert_exporter": "python",
   "pygments_lexer": "ipython3",
   "version": "3.10.12"
  }
 },
 "nbformat": 4,
 "nbformat_minor": 5
}
