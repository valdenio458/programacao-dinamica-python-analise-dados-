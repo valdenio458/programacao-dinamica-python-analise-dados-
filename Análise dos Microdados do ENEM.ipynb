{
 "cells": [
  {
   "cell_type": "code",
   "execution_count": 1,
   "id": "8b904dab",
   "metadata": {},
   "outputs": [],
   "source": [
    "import pandas as pd"
   ]
  },
  {
   "cell_type": "code",
   "execution_count": 2,
   "id": "12b24cbc",
   "metadata": {},
   "outputs": [],
   "source": [
    "colunas = ['NU_INSCRICAO', 'NU_ANO','CO_MUNICIPIO_PROVA', 'NO_MUNICIPIO_PROVA', 'CO_UF_ESC',\n",
    "           'SG_UF_ESC', 'TP_FAIXA_ETARIA']"
   ]
  },
  {
   "cell_type": "code",
   "execution_count": 3,
   "id": "158b2f36",
   "metadata": {},
   "outputs": [],
   "source": [
    "df = pd.read_csv('MICRODADOS_ENEM_2018.csv', sep=\";\", encoding='ISO-8859-1', usecols=colunas, nrows=1000)"
   ]
  },
  {
   "cell_type": "code",
   "execution_count": 4,
   "id": "d75d2204",
   "metadata": {},
   "outputs": [
    {
     "data": {
      "text/html": [
       "<div>\n",
       "<style scoped>\n",
       "    .dataframe tbody tr th:only-of-type {\n",
       "        vertical-align: middle;\n",
       "    }\n",
       "\n",
       "    .dataframe tbody tr th {\n",
       "        vertical-align: top;\n",
       "    }\n",
       "\n",
       "    .dataframe thead th {\n",
       "        text-align: right;\n",
       "    }\n",
       "</style>\n",
       "<table border=\"1\" class=\"dataframe\">\n",
       "  <thead>\n",
       "    <tr style=\"text-align: right;\">\n",
       "      <th></th>\n",
       "      <th>NU_INSCRICAO</th>\n",
       "      <th>NU_ANO</th>\n",
       "      <th>TP_FAIXA_ETARIA</th>\n",
       "      <th>CO_UF_ESC</th>\n",
       "      <th>SG_UF_ESC</th>\n",
       "      <th>CO_MUNICIPIO_PROVA</th>\n",
       "      <th>NO_MUNICIPIO_PROVA</th>\n",
       "    </tr>\n",
       "  </thead>\n",
       "  <tbody>\n",
       "    <tr>\n",
       "      <th>0</th>\n",
       "      <td>180007186625</td>\n",
       "      <td>2018</td>\n",
       "      <td>2</td>\n",
       "      <td>15.0</td>\n",
       "      <td>PA</td>\n",
       "      <td>1500800</td>\n",
       "      <td>Ananindeua</td>\n",
       "    </tr>\n",
       "    <tr>\n",
       "      <th>1</th>\n",
       "      <td>180007186627</td>\n",
       "      <td>2018</td>\n",
       "      <td>3</td>\n",
       "      <td>NaN</td>\n",
       "      <td>NaN</td>\n",
       "      <td>1503200</td>\n",
       "      <td>Igarapé-Açu</td>\n",
       "    </tr>\n",
       "    <tr>\n",
       "      <th>2</th>\n",
       "      <td>180007186628</td>\n",
       "      <td>2018</td>\n",
       "      <td>3</td>\n",
       "      <td>31.0</td>\n",
       "      <td>MG</td>\n",
       "      <td>3155603</td>\n",
       "      <td>Rio Pardo de Minas</td>\n",
       "    </tr>\n",
       "    <tr>\n",
       "      <th>3</th>\n",
       "      <td>180007186629</td>\n",
       "      <td>2018</td>\n",
       "      <td>2</td>\n",
       "      <td>15.0</td>\n",
       "      <td>PA</td>\n",
       "      <td>1500800</td>\n",
       "      <td>Ananindeua</td>\n",
       "    </tr>\n",
       "    <tr>\n",
       "      <th>4</th>\n",
       "      <td>180007186631</td>\n",
       "      <td>2018</td>\n",
       "      <td>11</td>\n",
       "      <td>NaN</td>\n",
       "      <td>NaN</td>\n",
       "      <td>2610905</td>\n",
       "      <td>Pesqueira</td>\n",
       "    </tr>\n",
       "  </tbody>\n",
       "</table>\n",
       "</div>"
      ],
      "text/plain": [
       "   NU_INSCRICAO  NU_ANO  TP_FAIXA_ETARIA  CO_UF_ESC SG_UF_ESC  \\\n",
       "0  180007186625    2018                2       15.0        PA   \n",
       "1  180007186627    2018                3        NaN       NaN   \n",
       "2  180007186628    2018                3       31.0        MG   \n",
       "3  180007186629    2018                2       15.0        PA   \n",
       "4  180007186631    2018               11        NaN       NaN   \n",
       "\n",
       "   CO_MUNICIPIO_PROVA  NO_MUNICIPIO_PROVA  \n",
       "0             1500800          Ananindeua  \n",
       "1             1503200         Igarapé-Açu  \n",
       "2             3155603  Rio Pardo de Minas  \n",
       "3             1500800          Ananindeua  \n",
       "4             2610905           Pesqueira  "
      ]
     },
     "execution_count": 4,
     "metadata": {},
     "output_type": "execute_result"
    }
   ],
   "source": [
    "df.head()"
   ]
  },
  {
   "cell_type": "code",
   "execution_count": null,
   "id": "53becd98",
   "metadata": {},
   "outputs": [],
   "source": []
  }
 ],
 "metadata": {
  "kernelspec": {
   "display_name": "Python 3 (ipykernel)",
   "language": "python",
   "name": "python3"
  },
  "language_info": {
   "codemirror_mode": {
    "name": "ipython",
    "version": 3
   },
   "file_extension": ".py",
   "mimetype": "text/x-python",
   "name": "python",
   "nbconvert_exporter": "python",
   "pygments_lexer": "ipython3",
   "version": "3.10.12"
  }
 },
 "nbformat": 4,
 "nbformat_minor": 5
}
